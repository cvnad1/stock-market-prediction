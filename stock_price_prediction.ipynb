{
  "nbformat": 4,
  "nbformat_minor": 0,
  "metadata": {
    "colab": {
      "name": "stock_price_prediction.ipynb",
      "provenance": [],
      "collapsed_sections": []
    },
    "kernelspec": {
      "name": "python3",
      "display_name": "Python 3"
    }
  },
  "cells": [
    {
      "cell_type": "markdown",
      "metadata": {
        "id": "xpAuMVCwfWs8",
        "colab_type": "text"
      },
      "source": [
        "# Recurrent Neural Network"
      ]
    },
    {
      "cell_type": "markdown",
      "metadata": {
        "id": "nxJfRe4bfYVA",
        "colab_type": "text"
      },
      "source": [
        "## Part 1 - Data Preprocessing"
      ]
    },
    {
      "cell_type": "markdown",
      "metadata": {
        "id": "ir9zwETrfbrp",
        "colab_type": "text"
      },
      "source": [
        "### Importing the libraries"
      ]
    },
    {
      "cell_type": "code",
      "metadata": {
        "id": "ZT1f24vHffuf",
        "colab_type": "code",
        "colab": {}
      },
      "source": [
        "# importing essential libraries\n",
        "import numpy as np\n",
        "import matplotlib.pyplot as plt\n",
        "import pandas as pd"
      ],
      "execution_count": null,
      "outputs": []
    },
    {
      "cell_type": "markdown",
      "metadata": {
        "id": "nQ47JAxrgmaL",
        "colab_type": "text"
      },
      "source": [
        "### Importing the training set"
      ]
    },
    {
      "cell_type": "code",
      "metadata": {
        "id": "1xiv3pJOgqY3",
        "colab_type": "code",
        "colab": {}
      },
      "source": [
        "# this program assumes the dataset is in single column\n",
        "dataset_train = pd.read_csv('file name in csv')\n",
        "training_set = dataset_train.iloc[:, 1:2].values"
      ],
      "execution_count": null,
      "outputs": []
    },
    {
      "cell_type": "markdown",
      "metadata": {
        "id": "HT8_2UJegtG5",
        "colab_type": "text"
      },
      "source": [
        "### Feature Scaling"
      ]
    },
    {
      "cell_type": "code",
      "metadata": {
        "id": "OTrF2kR7gx9x",
        "colab_type": "code",
        "colab": {}
      },
      "source": [
        "# performing scaling of the dataset as the numbers are too large for computation and there is a chance of exploding gradients \n",
        "from sklearn.preprocessing import MinMaxScaler\n",
        "sc = MinMaxScaler(feature_range = (0, 1))\n",
        "training_set_scaled = sc.fit_transform(training_set)"
      ],
      "execution_count": null,
      "outputs": []
    },
    {
      "cell_type": "markdown",
      "metadata": {
        "id": "JyYgYocqhNUg",
        "colab_type": "text"
      },
      "source": [
        "### Creating a data structure with 60 timesteps and 1 output"
      ]
    },
    {
      "cell_type": "code",
      "metadata": {
        "id": "iofU21B0i6ST",
        "colab_type": "code",
        "colab": {}
      },
      "source": [
        "# In this step we have assumed that the timesteps fo prediction of the stock price for next timestep is 60 \n",
        "# you can take as many steps as you wish and work your own way out with performance of your dataset\n",
        "# if observe this correctly we are transforming the single column data into some rows each having 60 inputs and 1 output \n",
        "X_train = []\n",
        "y_train = []\n",
        "for i in range(60, 1258):\n",
        "    X_train.append(training_set_scaled[i-60:i, 0])\n",
        "    y_train.append(training_set_scaled[i, 0])\n",
        "X_train, y_train = np.array(X_train), np.array(y_train)"
      ],
      "execution_count": null,
      "outputs": []
    },
    {
      "cell_type": "markdown",
      "metadata": {
        "id": "D8yaN7Zvi95l",
        "colab_type": "text"
      },
      "source": [
        "### Reshaping"
      ]
    },
    {
      "cell_type": "code",
      "metadata": {
        "id": "FOXqJHmNjBkz",
        "colab_type": "code",
        "colab": {}
      },
      "source": [
        "# input to an lstm should be in form of (batch_size,time_steps,dimension) and the data is single dimensional\n",
        "# if your dataset has other features and already predefined and labelled implies dimension=number of features\n",
        "# this datset assumes no labelled data and only a single column of opening stock prices\n",
        "X_train = np.reshape(X_train, (X_train.shape[0], X_train.shape[1], 1))"
      ],
      "execution_count": null,
      "outputs": []
    },
    {
      "cell_type": "markdown",
      "metadata": {
        "id": "ZRRSOJeVjEWV",
        "colab_type": "text"
      },
      "source": [
        "## Part 2 - Building and Training the RNN"
      ]
    },
    {
      "cell_type": "markdown",
      "metadata": {
        "id": "k4XV88JMjHXG",
        "colab_type": "text"
      },
      "source": [
        "### Importing the Keras libraries and packages"
      ]
    },
    {
      "cell_type": "code",
      "metadata": {
        "id": "9JRnqsxEjKsD",
        "colab_type": "code",
        "colab": {
          "base_uri": "https://localhost:8080/",
          "height": 34
        },
        "outputId": "b3e23e78-18aa-4396-c923-c877b8de60e4"
      },
      "source": [
        "# importing the keras module essential for training the deep learning model\n",
        "from keras.models import Sequential\n",
        "from keras.layers import Dense\n",
        "from keras.layers import LSTM\n",
        "from keras.layers import Dropout"
      ],
      "execution_count": null,
      "outputs": [
        {
          "output_type": "stream",
          "text": [
            "Using TensorFlow backend.\n"
          ],
          "name": "stderr"
        }
      ]
    },
    {
      "cell_type": "markdown",
      "metadata": {
        "id": "FEIE-1s9jNzC",
        "colab_type": "text"
      },
      "source": [
        "### Initialising the RNN"
      ]
    },
    {
      "cell_type": "code",
      "metadata": {
        "id": "1338dJ0UjRKH",
        "colab_type": "code",
        "colab": {}
      },
      "source": [
        "# architecture\n",
        "regressor = Sequential()"
      ],
      "execution_count": null,
      "outputs": []
    },
    {
      "cell_type": "markdown",
      "metadata": {
        "id": "62eg1OPGjT8z",
        "colab_type": "text"
      },
      "source": [
        "### Adding the first LSTM layer and some Dropout regularisation"
      ]
    },
    {
      "cell_type": "code",
      "metadata": {
        "id": "2hIinyXUjbVU",
        "colab_type": "code",
        "colab": {}
      },
      "source": [
        "regressor.add(LSTM(units = 50, return_sequences = True, input_shape = (X_train.shape[1], 1)))\n",
        "regressor.add(Dropout(0.2))"
      ],
      "execution_count": null,
      "outputs": []
    },
    {
      "cell_type": "markdown",
      "metadata": {
        "id": "3XBIYLyOjlMx",
        "colab_type": "text"
      },
      "source": [
        "### Adding a second LSTM layer and some Dropout regularisation"
      ]
    },
    {
      "cell_type": "code",
      "metadata": {
        "id": "UG7nrVaSjuZ2",
        "colab_type": "code",
        "colab": {}
      },
      "source": [
        "regressor.add(LSTM(units = 50, return_sequences = True))\n",
        "regressor.add(Dropout(0.2))"
      ],
      "execution_count": null,
      "outputs": []
    },
    {
      "cell_type": "markdown",
      "metadata": {
        "id": "Ey3fHVnGj1cu",
        "colab_type": "text"
      },
      "source": [
        "### Adding a third LSTM layer and some Dropout regularisation"
      ]
    },
    {
      "cell_type": "code",
      "metadata": {
        "id": "PuNi6PgFj7jO",
        "colab_type": "code",
        "colab": {}
      },
      "source": [
        "regressor.add(LSTM(units = 50, return_sequences = True))\n",
        "regressor.add(Dropout(0.2))"
      ],
      "execution_count": null,
      "outputs": []
    },
    {
      "cell_type": "markdown",
      "metadata": {
        "id": "SYTrtfTmj933",
        "colab_type": "text"
      },
      "source": [
        "### Adding a fourth LSTM layer and some Dropout regularisation"
      ]
    },
    {
      "cell_type": "code",
      "metadata": {
        "id": "Jp4Ty8fRkBYV",
        "colab_type": "code",
        "colab": {}
      },
      "source": [
        "regressor.add(LSTM(units = 50))\n",
        "regressor.add(Dropout(0.2))"
      ],
      "execution_count": null,
      "outputs": []
    },
    {
      "cell_type": "markdown",
      "metadata": {
        "id": "9ABI6rOIkHhk",
        "colab_type": "text"
      },
      "source": [
        "### Adding the output layer"
      ]
    },
    {
      "cell_type": "code",
      "metadata": {
        "id": "aM6R1z4WkME8",
        "colab_type": "code",
        "colab": {}
      },
      "source": [
        "regressor.add(Dense(units = 1))"
      ],
      "execution_count": null,
      "outputs": []
    },
    {
      "cell_type": "markdown",
      "metadata": {
        "id": "zLx4K7uUkPSh",
        "colab_type": "text"
      },
      "source": [
        "### Compiling the RNN"
      ]
    },
    {
      "cell_type": "code",
      "metadata": {
        "id": "XTrhVN-tkbko",
        "colab_type": "code",
        "colab": {}
      },
      "source": [
        "# compiling to find optimized parameters\n",
        "regressor.compile(optimizer = 'adam', loss = 'mean_squared_error')"
      ],
      "execution_count": null,
      "outputs": []
    },
    {
      "cell_type": "markdown",
      "metadata": {
        "id": "-mPhwKGkkebi",
        "colab_type": "text"
      },
      "source": [
        "### Fitting the RNN to the Training set"
      ]
    },
    {
      "cell_type": "code",
      "metadata": {
        "id": "I06Nkrz5kkb-",
        "colab_type": "code",
        "colab": {
          "base_uri": "https://localhost:8080/",
          "height": 1000
        },
        "outputId": "dc9d947a-4d5c-4dbc-ed45-31bf44b98dfb"
      },
      "source": [
        "regressor.fit(X_train, y_train, epochs = 100, batch_size = 32)"
      ],
      "execution_count": null,
      "outputs": [
        {
          "output_type": "stream",
          "text": [
            "Epoch 1/100\n",
            "1198/1198 [==============================] - 6s 5ms/step - loss: 0.0437\n",
            "Epoch 2/100\n",
            "1198/1198 [==============================] - 5s 4ms/step - loss: 0.0062\n",
            "Epoch 3/100\n",
            "1198/1198 [==============================] - 5s 4ms/step - loss: 0.0056\n",
            "Epoch 4/100\n",
            "1198/1198 [==============================] - 5s 4ms/step - loss: 0.0053\n",
            "Epoch 5/100\n",
            "1198/1198 [==============================] - 5s 4ms/step - loss: 0.0050\n",
            "Epoch 6/100\n",
            "1198/1198 [==============================] - 5s 4ms/step - loss: 0.0054\n",
            "Epoch 7/100\n",
            "1198/1198 [==============================] - 5s 4ms/step - loss: 0.0043\n",
            "Epoch 8/100\n",
            "1198/1198 [==============================] - 5s 4ms/step - loss: 0.0045\n",
            "Epoch 9/100\n",
            "1198/1198 [==============================] - 5s 4ms/step - loss: 0.0039\n",
            "Epoch 10/100\n",
            "1198/1198 [==============================] - 5s 4ms/step - loss: 0.0042\n",
            "Epoch 11/100\n",
            "1198/1198 [==============================] - 5s 4ms/step - loss: 0.0040\n",
            "Epoch 12/100\n",
            "1198/1198 [==============================] - 5s 4ms/step - loss: 0.0039\n",
            "Epoch 13/100\n",
            "1198/1198 [==============================] - 5s 4ms/step - loss: 0.0038\n",
            "Epoch 14/100\n",
            "1198/1198 [==============================] - 5s 4ms/step - loss: 0.0036\n",
            "Epoch 15/100\n",
            "1198/1198 [==============================] - 5s 4ms/step - loss: 0.0040\n",
            "Epoch 16/100\n",
            "1198/1198 [==============================] - 5s 4ms/step - loss: 0.0039\n",
            "Epoch 17/100\n",
            "1198/1198 [==============================] - 5s 4ms/step - loss: 0.0037\n",
            "Epoch 18/100\n",
            "1198/1198 [==============================] - 5s 4ms/step - loss: 0.0033\n",
            "Epoch 19/100\n",
            "1198/1198 [==============================] - 5s 4ms/step - loss: 0.0037\n",
            "Epoch 20/100\n",
            "1198/1198 [==============================] - 5s 4ms/step - loss: 0.0038\n",
            "Epoch 21/100\n",
            "1198/1198 [==============================] - 5s 4ms/step - loss: 0.0034\n",
            "Epoch 22/100\n",
            "1198/1198 [==============================] - 5s 4ms/step - loss: 0.0038\n",
            "Epoch 23/100\n",
            "1198/1198 [==============================] - 5s 4ms/step - loss: 0.0035\n",
            "Epoch 24/100\n",
            "1198/1198 [==============================] - 5s 4ms/step - loss: 0.0033\n",
            "Epoch 25/100\n",
            "1198/1198 [==============================] - 5s 4ms/step - loss: 0.0031\n",
            "Epoch 26/100\n",
            "1198/1198 [==============================] - 5s 4ms/step - loss: 0.0030\n",
            "Epoch 27/100\n",
            "1198/1198 [==============================] - 5s 4ms/step - loss: 0.0030\n",
            "Epoch 28/100\n",
            "1198/1198 [==============================] - 5s 4ms/step - loss: 0.0029\n",
            "Epoch 29/100\n",
            "1198/1198 [==============================] - 5s 4ms/step - loss: 0.0030\n",
            "Epoch 30/100\n",
            "1198/1198 [==============================] - 5s 4ms/step - loss: 0.0030\n",
            "Epoch 31/100\n",
            "1198/1198 [==============================] - 5s 4ms/step - loss: 0.0026\n",
            "Epoch 32/100\n",
            "1198/1198 [==============================] - 5s 4ms/step - loss: 0.0028\n",
            "Epoch 33/100\n",
            "1198/1198 [==============================] - 5s 4ms/step - loss: 0.0030\n",
            "Epoch 34/100\n",
            "1198/1198 [==============================] - 5s 4ms/step - loss: 0.0028\n",
            "Epoch 35/100\n",
            "1198/1198 [==============================] - 5s 4ms/step - loss: 0.0028\n",
            "Epoch 36/100\n",
            "1198/1198 [==============================] - 5s 4ms/step - loss: 0.0025\n",
            "Epoch 37/100\n",
            "1198/1198 [==============================] - 5s 4ms/step - loss: 0.0032\n",
            "Epoch 38/100\n",
            "1198/1198 [==============================] - 5s 4ms/step - loss: 0.0025\n",
            "Epoch 39/100\n",
            "1198/1198 [==============================] - 5s 4ms/step - loss: 0.0025\n",
            "Epoch 40/100\n",
            "1198/1198 [==============================] - 5s 4ms/step - loss: 0.0025\n",
            "Epoch 41/100\n",
            "1198/1198 [==============================] - 5s 4ms/step - loss: 0.0024\n",
            "Epoch 42/100\n",
            "1198/1198 [==============================] - 5s 4ms/step - loss: 0.0026\n",
            "Epoch 43/100\n",
            "1198/1198 [==============================] - 5s 4ms/step - loss: 0.0026\n",
            "Epoch 44/100\n",
            "1198/1198 [==============================] - 5s 4ms/step - loss: 0.0026\n",
            "Epoch 45/100\n",
            "1198/1198 [==============================] - 5s 4ms/step - loss: 0.0023\n",
            "Epoch 46/100\n",
            "1198/1198 [==============================] - 5s 4ms/step - loss: 0.0023\n",
            "Epoch 47/100\n",
            "1198/1198 [==============================] - 5s 4ms/step - loss: 0.0027\n",
            "Epoch 48/100\n",
            "1198/1198 [==============================] - 5s 4ms/step - loss: 0.0024\n",
            "Epoch 49/100\n",
            "1198/1198 [==============================] - 5s 4ms/step - loss: 0.0025\n",
            "Epoch 50/100\n",
            "1198/1198 [==============================] - 5s 4ms/step - loss: 0.0025\n",
            "Epoch 51/100\n",
            "1198/1198 [==============================] - 5s 4ms/step - loss: 0.0026\n",
            "Epoch 52/100\n",
            "1198/1198 [==============================] - 5s 4ms/step - loss: 0.0023\n",
            "Epoch 53/100\n",
            "1198/1198 [==============================] - 5s 4ms/step - loss: 0.0024\n",
            "Epoch 54/100\n",
            "1198/1198 [==============================] - 5s 4ms/step - loss: 0.0024\n",
            "Epoch 55/100\n",
            "1198/1198 [==============================] - 5s 4ms/step - loss: 0.0025\n",
            "Epoch 56/100\n",
            "1198/1198 [==============================] - 5s 4ms/step - loss: 0.0025\n",
            "Epoch 57/100\n",
            "1198/1198 [==============================] - 5s 4ms/step - loss: 0.0023\n",
            "Epoch 58/100\n",
            "1198/1198 [==============================] - 5s 4ms/step - loss: 0.0020\n",
            "Epoch 59/100\n",
            "1198/1198 [==============================] - 5s 4ms/step - loss: 0.0023\n",
            "Epoch 60/100\n",
            "1198/1198 [==============================] - 5s 4ms/step - loss: 0.0020\n",
            "Epoch 61/100\n",
            "1198/1198 [==============================] - 5s 4ms/step - loss: 0.0021\n",
            "Epoch 62/100\n",
            "1198/1198 [==============================] - 5s 4ms/step - loss: 0.0021\n",
            "Epoch 63/100\n",
            "1198/1198 [==============================] - 5s 4ms/step - loss: 0.0021\n",
            "Epoch 64/100\n",
            "1198/1198 [==============================] - 5s 4ms/step - loss: 0.0019\n",
            "Epoch 65/100\n",
            "1198/1198 [==============================] - 5s 4ms/step - loss: 0.0022\n",
            "Epoch 66/100\n",
            "1198/1198 [==============================] - 5s 4ms/step - loss: 0.0020\n",
            "Epoch 67/100\n",
            "1198/1198 [==============================] - 5s 4ms/step - loss: 0.0017\n",
            "Epoch 68/100\n",
            "1198/1198 [==============================] - 5s 4ms/step - loss: 0.0018\n",
            "Epoch 69/100\n",
            "1198/1198 [==============================] - 5s 4ms/step - loss: 0.0021\n",
            "Epoch 70/100\n",
            "1198/1198 [==============================] - 5s 4ms/step - loss: 0.0019\n",
            "Epoch 71/100\n",
            "1198/1198 [==============================] - 5s 4ms/step - loss: 0.0019\n",
            "Epoch 72/100\n",
            "1198/1198 [==============================] - 5s 4ms/step - loss: 0.0018\n",
            "Epoch 73/100\n",
            "1198/1198 [==============================] - 5s 4ms/step - loss: 0.0017\n",
            "Epoch 74/100\n",
            "1198/1198 [==============================] - 5s 4ms/step - loss: 0.0019\n",
            "Epoch 75/100\n",
            "1198/1198 [==============================] - 5s 4ms/step - loss: 0.0017\n",
            "Epoch 76/100\n",
            "1198/1198 [==============================] - 5s 4ms/step - loss: 0.0018\n",
            "Epoch 77/100\n",
            "1198/1198 [==============================] - 5s 4ms/step - loss: 0.0018\n",
            "Epoch 78/100\n",
            "1198/1198 [==============================] - 5s 4ms/step - loss: 0.0019\n",
            "Epoch 79/100\n",
            "1198/1198 [==============================] - 5s 4ms/step - loss: 0.0017\n",
            "Epoch 80/100\n",
            "1198/1198 [==============================] - 5s 4ms/step - loss: 0.0018\n",
            "Epoch 81/100\n",
            "1198/1198 [==============================] - 5s 4ms/step - loss: 0.0019\n",
            "Epoch 82/100\n",
            "1198/1198 [==============================] - 5s 4ms/step - loss: 0.0020\n",
            "Epoch 83/100\n",
            "1198/1198 [==============================] - 5s 4ms/step - loss: 0.0017\n",
            "Epoch 84/100\n",
            "1198/1198 [==============================] - 5s 4ms/step - loss: 0.0019\n",
            "Epoch 85/100\n",
            "1198/1198 [==============================] - 5s 4ms/step - loss: 0.0016\n",
            "Epoch 86/100\n",
            "1198/1198 [==============================] - 5s 4ms/step - loss: 0.0018\n",
            "Epoch 87/100\n",
            "1198/1198 [==============================] - 5s 4ms/step - loss: 0.0016\n",
            "Epoch 88/100\n",
            "1198/1198 [==============================] - 5s 4ms/step - loss: 0.0016\n",
            "Epoch 89/100\n",
            "1198/1198 [==============================] - 5s 4ms/step - loss: 0.0016\n",
            "Epoch 90/100\n",
            "1198/1198 [==============================] - 5s 4ms/step - loss: 0.0016\n",
            "Epoch 91/100\n",
            "1198/1198 [==============================] - 5s 4ms/step - loss: 0.0016\n",
            "Epoch 92/100\n",
            "1198/1198 [==============================] - 5s 4ms/step - loss: 0.0014\n",
            "Epoch 93/100\n",
            "1198/1198 [==============================] - 5s 4ms/step - loss: 0.0014\n",
            "Epoch 94/100\n",
            "1198/1198 [==============================] - 5s 4ms/step - loss: 0.0015\n",
            "Epoch 95/100\n",
            "1198/1198 [==============================] - 5s 4ms/step - loss: 0.0014\n",
            "Epoch 96/100\n",
            "1198/1198 [==============================] - 5s 4ms/step - loss: 0.0014\n",
            "Epoch 97/100\n",
            "1198/1198 [==============================] - 5s 4ms/step - loss: 0.0015\n",
            "Epoch 98/100\n",
            "1198/1198 [==============================] - 5s 4ms/step - loss: 0.0014\n",
            "Epoch 99/100\n",
            "1198/1198 [==============================] - 5s 4ms/step - loss: 0.0014\n",
            "Epoch 100/100\n",
            "1198/1198 [==============================] - 5s 4ms/step - loss: 0.0013\n"
          ],
          "name": "stdout"
        },
        {
          "output_type": "execute_result",
          "data": {
            "text/plain": [
              "<keras.callbacks.callbacks.History at 0x7f09cd4ae160>"
            ]
          },
          "metadata": {
            "tags": []
          },
          "execution_count": 14
        }
      ]
    },
    {
      "cell_type": "markdown",
      "metadata": {
        "id": "4hRau_lIkrE8",
        "colab_type": "text"
      },
      "source": [
        "## Part 3 - Making the predictions and visualising the results"
      ]
    },
    {
      "cell_type": "markdown",
      "metadata": {
        "id": "SgJO6qEDksxD",
        "colab_type": "text"
      },
      "source": [
        "### Getting the real stock price of 2017"
      ]
    },
    {
      "cell_type": "code",
      "metadata": {
        "id": "FmBT2zqukxTz",
        "colab_type": "code",
        "colab": {}
      },
      "source": [
        "dataset_test = pd.read_csv('Google_Stock_Price_Test.csv')\n",
        "real_stock_price = dataset_test.iloc[:, 1:2].values"
      ],
      "execution_count": null,
      "outputs": []
    },
    {
      "cell_type": "markdown",
      "metadata": {
        "id": "GrvrLblxkz42",
        "colab_type": "text"
      },
      "source": [
        "### Getting the predicted stock price of 2017"
      ]
    },
    {
      "cell_type": "code",
      "metadata": {
        "id": "emikTvUpk3Ck",
        "colab_type": "code",
        "colab": {}
      },
      "source": [
        "# this code assumes a random number of test cases of 20 hence the range below is from (60,80) you can change your range according\n",
        "# to your data\n",
        "# here we also need to change the test data to suit the architecture and parameters\n",
        "# we are concatenating the test and train data along the column\n",
        "dataset_total = pd.concat((dataset_train['column_name'], dataset_test['column_name']), axis = 0)\n",
        "# we are taking the previous 60 timesteps from train data so as to for the first row vector of thetest data, hence we concatenated above\n",
        "inputs = dataset_total[len(dataset_total) - len(dataset_test) - 60:].values\n",
        "inputs = inputs.reshape(-1,1)\n",
        "inputs = sc.transform(inputs)\n",
        "X_test = []\n",
        "# change range\n",
        "for i in range(60, 80):\n",
        "    X_test.append(inputs[i-60:i, 0])\n",
        "X_test = np.array(X_test)\n",
        "X_test = np.reshape(X_test, (X_test.shape[0], X_test.shape[1], 1))\n",
        "predicted_stock_price = regressor.predict(X_test)\n",
        "# we need to predict the values not the transformed figures,hence applied the inverse transform\n",
        "predicted_stock_price = sc.inverse_transform(predicted_stock_price)"
      ],
      "execution_count": null,
      "outputs": []
    }
  ]
}